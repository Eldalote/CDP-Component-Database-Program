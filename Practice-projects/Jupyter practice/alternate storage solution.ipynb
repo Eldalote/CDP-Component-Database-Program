{
 "cells": [
  {
   "cell_type": "code",
   "execution_count": 6,
   "id": "aquatic-deviation",
   "metadata": {},
   "outputs": [
    {
     "name": "stdout",
     "output_type": "stream",
     "text": [
      "2.6.0\n",
      "('0.000000000004', '0402')\n",
      "('0.0001', '0402')\n",
      "('0.0006', '0402')\n",
      "('0.01', '0805')\n",
      "('0.01', '0402')\n",
      "('000000000016', '0603')\n",
      "('000000003300', '0805')\n",
      "('000000047000', '0603')\n",
      "('000010000005', '0402')\n"
     ]
    }
   ],
   "source": [
    "import sqlite3\n",
    "from sqlite3 import Error\n",
    "\n",
    "\n",
    "conn = None\n",
    "try:\n",
    "    conn = sqlite3.connect(r\"test.db\")\n",
    "    print(sqlite3.version)\n",
    "except Error as e:\n",
    "    print(\"database connection error: \" + str(e))\n",
    "    \n",
    "sql = \"\"\"CREATE TABLE IF NOT EXISTS resistors(\n",
    "            value text,\n",
    "            footprint text);\"\"\"\n",
    "try:\n",
    "    cur = conn.cursor()\n",
    "    cur.execute(sql)\n",
    "    conn.commit()\n",
    "except:\n",
    "    print(\"Table error\")\n",
    "\n",
    "if True:\n",
    "    sql = \"\"\"INSERT INTO resistors(\n",
    "            value,\n",
    "            footprint)\n",
    "            VALUES(?,?);\"\"\"\n",
    "    res1 = (\"0.01\",\"0402\")\n",
    "    res2 = (\"0.01\",\"0805\")\n",
    "    res3 = (\"0.0001\",\"0402\")\n",
    "    res4 = (\"0.000000000004\",\"0402\")\n",
    "    res5 = (\"0.0006\",\"0402\")\n",
    "    res6 = (\"000000000016\",\"0603\")\n",
    "    res7 = (\"000010000005\",\"0402\")\n",
    "    res8 = (\"000000003300\",\"0805\")\n",
    "    res9 = (\"000000047000\",\"0603\")\n",
    "    cur = conn.cursor()\n",
    "    cur.execute(sql,res1)\n",
    "    cur.execute(sql,res2)\n",
    "    cur.execute(sql,res3)\n",
    "    cur.execute(sql,res4)\n",
    "    cur.execute(sql,res5)\n",
    "    cur.execute(sql,res6)\n",
    "    cur.execute(sql,res7)\n",
    "    cur.execute(sql,res8)\n",
    "    cur.execute(sql,res9)\n",
    "    conn.commit()\n",
    "    \n",
    "if True:\n",
    "    sql = \"SELECT * FROM resistors ORDER BY value ASC, footprint DESC\"\n",
    "    cur = conn.cursor()\n",
    "    cur.execute(sql)\n",
    "    rows = cur.fetchall()\n",
    "    for row in rows:\n",
    "        print(row)\n",
    "\n",
    "\n",
    "conn.close()\n",
    "\n",
    "    "
   ]
  },
  {
   "cell_type": "code",
   "execution_count": 3,
   "id": "signal-stake",
   "metadata": {},
   "outputs": [
    {
     "name": "stdout",
     "output_type": "stream",
     "text": [
      "0\n",
      "0\n",
      "0\n",
      "0\n",
      "3\n",
      "3\n",
      "0\n",
      "0\n"
     ]
    }
   ],
   "source": [
    "vs = \"0.00003300\"\n",
    "if vs[1] == '.':\n",
    "    le = len(vs)\n",
    "    vst = vs[2:le]\n",
    "    lead = True\n",
    "    for char in vst:\n",
    "        if char:\n",
    "            \n",
    "        \n",
    "    \n",
    "else:\n",
    "    v = int(vs)\n",
    "    p = str(v)"
   ]
  },
  {
   "cell_type": "code",
   "execution_count": null,
   "id": "suitable-forge",
   "metadata": {},
   "outputs": [],
   "source": []
  }
 ],
 "metadata": {
  "kernelspec": {
   "display_name": "Python 3",
   "language": "python",
   "name": "python3"
  },
  "language_info": {
   "codemirror_mode": {
    "name": "ipython",
    "version": 3
   },
   "file_extension": ".py",
   "mimetype": "text/x-python",
   "name": "python",
   "nbconvert_exporter": "python",
   "pygments_lexer": "ipython3",
   "version": "3.9.2"
  }
 },
 "nbformat": 4,
 "nbformat_minor": 5
}
