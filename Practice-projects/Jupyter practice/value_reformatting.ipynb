{
 "cells": [
  {
   "cell_type": "code",
   "execution_count": 51,
   "id": "approved-commission",
   "metadata": {},
   "outputs": [
    {
     "name": "stdout",
     "output_type": "stream",
     "text": [
      "remainder:0\n",
      "1mΩ\n"
     ]
    }
   ],
   "source": [
    "iso_multipliers = (('Pico', 'p',  0.000000000001, 1000000000000),\n",
    "                   ('Nano', 'n',  0.000000001, 1000000000),\n",
    "                   ('Micro', 'u', 0.000001, 1000000),\n",
    "                   ('Milli', 'm', 0.001, 1000),\n",
    "                   ('', 'R', 1),\n",
    "                   ('Kilo', 'k', 1000),\n",
    "                   ('Mega', 'M', 1000000),\n",
    "                   ('Giga', 'G', 1000000000))\n",
    "\n",
    "value = 0.00123\n",
    "for mult in iso_multipliers:\n",
    "    if value >= mult[2] and value < mult[2]*1000:\n",
    "        multiplier = mult[2]\n",
    "        symbol = mult[1]\n",
    "        word = mult[0]\n",
    "        \n",
    "res_printstring = str(int(value/multiplier))\n",
    "remainder = int(value%multiplier)\n",
    "print(\"remainder:\" +str(remainder))\n",
    "\n",
    "if multiplier == 1:\n",
    "    remainder = int((value*1000)%1000)\n",
    "    \n",
    "if remainder != 0 or multiplier != 1:\n",
    "    res_printstring += symbol\n",
    "    \n",
    "if remainder != 0:\n",
    "    while remainder%10 == 0:\n",
    "        remainder /=10\n",
    "    res_printstring += str(int(remainder))\n",
    "\n",
    "    \n",
    "res_printstring += \"Ω\" \n",
    "    \n",
    "print(res_printstring)\n",
    "\n",
    "\n"
   ]
  },
  {
   "cell_type": "code",
   "execution_count": 64,
   "id": "minor-invasion",
   "metadata": {},
   "outputs": [
    {
     "data": {
      "text/plain": [
       "122.99999999999999"
      ]
     },
     "execution_count": 64,
     "metadata": {},
     "output_type": "execute_result"
    }
   ],
   "source": [
    "0.000000000123*1000000000000"
   ]
  },
  {
   "cell_type": "code",
   "execution_count": null,
   "id": "municipal-imaging",
   "metadata": {},
   "outputs": [],
   "source": []
  }
 ],
 "metadata": {
  "kernelspec": {
   "display_name": "Python 3",
   "language": "python",
   "name": "python3"
  },
  "language_info": {
   "codemirror_mode": {
    "name": "ipython",
    "version": 3
   },
   "file_extension": ".py",
   "mimetype": "text/x-python",
   "name": "python",
   "nbconvert_exporter": "python",
   "pygments_lexer": "ipython3",
   "version": "3.9.2"
  }
 },
 "nbformat": 4,
 "nbformat_minor": 5
}
