{
 "cells": [
  {
   "cell_type": "code",
   "execution_count": 43,
   "id": "incredible-terrain",
   "metadata": {},
   "outputs": [],
   "source": [
    "class ValueConvert:\n",
    "    \"\"\"Class for the conversion of short notation to real value of components, and vise versa\"\"\"\n",
    "    \n",
    "    #ISO multipliers list, for lookups. (Name, Shortdisplay(resistor), shortdisplay(other), shortlookup(resistor), shortlookup(other), value, exponent)\n",
    "    iso_multipliers = (('Pico',  'p','p','p','p', 0.000000000001, -12),\n",
    "                       ('Nano',  'n','n','n','n', 0.000000001, -9),\n",
    "                       ('Micro', 'µ','µ','u','u', 0.000001, -6),\n",
    "                       ('Milli', 'm','m','m','m', 0.001, -3),\n",
    "                       ('',      'R','.','R','.', 1, 0),\n",
    "                       ('Kilo',  'k','k','k','k', 1000, 3),\n",
    "                       ('Mega',  'M','M','M','M', 1000000, 6),\n",
    "                       ('Giga',  'G','G','G','G', 1000000000, 9))\n",
    "    #How wide should the real value be for storage (for sorting reasons)\n",
    "    realvalue_store_width = 20\n",
    "    \n",
    "    def real_to_short_resistor(self, RealValue):\n",
    "        \"\"\"Converts the presented RealValue to short notation for the user, and the verbose value\n",
    "        :param RealValue: string with the real value of the component, only feed this data from the database. Invalid user input could result in errors.\n",
    "        :return: tuple of (Short representation, verbose representation)\n",
    "        \"\"\"\n",
    "        #A value of zero ohm should be stored as \"Zero\". We check for empty string anyway.        \n",
    "        if RealValue == \"Zero\" or RealValue == \"\":\n",
    "            return (\"0R\",\"Zero Ohm\")\n",
    "        #If the real value starts with \"0.\" we know we are dealing with a \"small value\" (less than 1 ohm)\n",
    "        elif RealValue[0:2] == \"0.\":\n",
    "            return self.__rts_res_small(RealValue[2:len(RealValue)])\n",
    "        #if not, it is a \"big value\" (1 ohm and up)\n",
    "        else:\n",
    "            return self.__rts_res_big(RealValue)\n",
    "    \n",
    "    def __rts_res_big(self,value):\n",
    "        \"\"\"Sub-function of the real to short resistor convertor, for \"Big values\"\n",
    "        :Param value: the real value\n",
    "        :return: tuple of (Short representation, verbose representation)\n",
    "        \"\"\"\n",
    "        #first we strip off the leading zeroes with a while loop\n",
    "        while value[0] == \"0\":\n",
    "            value = value[1:len(value)]      \n",
    "        #if value is only digits, we can just convert it to an integer, and work with that.\n",
    "        if value.isdigit():\n",
    "            intvalue = int(value)\n",
    "            #Step through the iso_multipliers, and check if the value fits in that multiplier range\n",
    "            for mult in ValueConvert.iso_multipliers:                            \n",
    "                if intvalue >= mult[5] and intvalue < mult[5]*1000:\n",
    "                    #when we find the right multiplier, store some values for later use\n",
    "                    multiplier = mult[5]\n",
    "                    symbol = mult[1]\n",
    "                    word = mult[0]\n",
    "                    exponent = mult[6]\n",
    "                    break\n",
    "            #if the value is larger than 1000 times the largest in the list, we didnt find a matching one in the list, and so we assign the largest now.\n",
    "            if intvalue >= ValueConvert.iso_multipliers[len(ValueConvert.iso_multipliers)-1][5]:\n",
    "                multiplier = ValueConvert.iso_multipliers[len(ValueConvert.iso_multipliers)-1][5]\n",
    "                symbol = ValueConvert.iso_multipliers[len(ValueConvert.iso_multipliers)-1][1]\n",
    "                word = ValueConvert.iso_multipliers[len(ValueConvert.iso_multipliers)-1][0]\n",
    "            #the first part of the representation (the part before the dividing symbol) is a string of the integer rounded value of the value divided by the multiplier\n",
    "            first_part = str(int(intvalue/multiplier))\n",
    "            #the remainder is the part after the dividing symbol, we get that by taking the integer value of the remainder of the same division \n",
    "            remainder = int(intvalue%multiplier)\n",
    "            #special case, if we are dealing with resistors in the \"1 ohm\" range, to get the right remainder, we need to multiply and divide by 1000 (remainder of 14.7/1 is 0.7, we need to get \"7\" as the answer in this case).\n",
    "            if multiplier == 1:\n",
    "                remainder = int((intvalue*1000)%1000)\n",
    "            #if the remainder is too short  add leading zeroes (3090%1000 is 90, but we want 090)\n",
    "            insert = \"\"\n",
    "            while (len(str(remainder))+len(insert)) < exponent:\n",
    "                insert +=\"0\"\n",
    "            \n",
    "            if remainder != 0:\n",
    "                #in a loop, we strip the trailing zeroes of the remainder\n",
    "                while remainder%10 == 0:\n",
    "                    remainder = int(remainder / 10)\n",
    "                #and then formate the outputs correctly\n",
    "                shortvalue = first_part + symbol +insert + str(remainder)\n",
    "                verbose = first_part + '.' +insert+ str(remainder) + \" \" + word +\"Ohm\"\n",
    "            else:\n",
    "                #if the remainder is 0, the formatting is simpler\n",
    "                shortvalue = first_part + symbol\n",
    "                verbose = first_part + \" \" + word +\"Ohm\"\n",
    "            return(shortvalue, verbose)\n",
    "        #if the value is not only digits, we are dealing with a decimal value in the 1 ohm range.\n",
    "        else:\n",
    "            #Just split by \".\" and format accordingly\n",
    "            parts = value.split(\".\")\n",
    "            shortvalue = parts[0]+\"R\"+parts[1]\n",
    "            return(shortvalue, value+\" Ohm\")\n",
    "\n",
    "\n",
    "    def __rts_res_small(self,value):\n",
    "        \"\"\"Sub-function of the real to short resistor convertor, for \"Small values\"\n",
    "        :Param value: the real value\n",
    "        :return: tuple of (Short representation, verbose representation)\n",
    "        \"\"\"\n",
    "        #First, we determine the exponent of the value.\n",
    "        exponent = 0\n",
    "        while value[0] == '0':\n",
    "            #for each '0' at the start of the value, we strip that '0' and decrease the exponent by 1\n",
    "            exponent -= 1\n",
    "            value = value[1:len(value)]\n",
    "        #if the exponent is smaller than the smallest in the iso list, we can't deal with that right now.\n",
    "        #note: This shouldn't happen, since the value should only be stored in the db if converted by this class, which uses the same iso table.\n",
    "        if exponent <= iso_multipliers[0][6]:\n",
    "            return(\"ERROR\", \"Out of bounds\")\n",
    "        #we step the the iso table again, to check which one matched, this time by exponent\n",
    "        for mult in ValueConvert.iso_multipliers:\n",
    "            if exponent > mult[6]:\n",
    "                #shift is how many spaces we have to shift the number to get to the right value. 0.1 is 100 milli, not 1 milli, so we have to shift 2\n",
    "                shift = exponent - mult[6] \n",
    "                symbol = mult[1]\n",
    "                word = mult[0]\n",
    "        #now, the first part are the first (shift) digits\n",
    "        first_part = value[0:shift]\n",
    "        #if the digits are fewer than the number we need (for example 0.1 is 100m, but comes into the function as just 1) we need to padd zeroes to the end.\n",
    "        while len(first_part) < shift:\n",
    "            first_part += \"0\"\n",
    "        #the remainder are the digits after (shift)\n",
    "        remainder = value[shift:len(value)]\n",
    "        #now format it properly, and return\n",
    "        if remainder != \"\":\n",
    "            short = first_part + symbol + remainder\n",
    "            verbose = first_part + \".\" + remainder + \" \" + word + \"Ohm\"\n",
    "        else:\n",
    "            short = first_part + symbol\n",
    "            verbose = first_part + \" \" + word + \"Ohm\"\n",
    "        return(short, verbose)\n",
    "    \n",
    "    \n",
    "    def short_to_real_resistor(self, ShortRepresentation):\n",
    "        \"\"\"Converts the presented ShortRepresentation to a string containing the real value for storage in the database, as well ass a verbose representation\n",
    "        :param ShortRepresentation: The short representation of the value of the resistor, like 4k7\n",
    "        :return: A tuple as (Real value string, verbose representation)\n",
    "        \"\"\"\n",
    "        #if the input is zero, return zero\n",
    "        if ShortRepresentation == \"0\" or ShortRepresentation == \"0R\":\n",
    "            return (\"Zero\", \"Zero Ohm\")\n",
    "        #if the input is just digits, return the sub function for just numerical\n",
    "        if ShortRepresentation.isdigit():\n",
    "            return self.__str_res_num(ShortRepresentation)\n",
    "        #Now we check all the iso multipliers, to see what symbol is used\n",
    "        for iso in ValueConvert.iso_multipliers:\n",
    "            breakpoint = ShortRepresentation.find(iso[3])\n",
    "            #check if the symbol was found, \n",
    "            if breakpoint != -1:\n",
    "                #if yes, see if it is a \"large\" (>=1) or a \"small\" (<1) value, and return the proper sub function\n",
    "                if iso[6] >= 0:\n",
    "                    return self.__str_res_big(ShortRepresentation[0:breakpoint], ShortRepresentation[breakpoint +1 : len(ShortRepresentation)], iso)\n",
    "                else:\n",
    "                    return self.__str_res_small(ShortRepresentation[0:breakpoint], ShortRepresentation[breakpoint +1 : len(ShortRepresentation)], iso) \n",
    "        #if that all hasn't worked so far, return an error with \"Unknown value\" as the error message.\n",
    "        return(\"ERROR\", \"Unknown value\")          \n",
    "    \n",
    "    def __str_res_big(self, pre, post, iso):\n",
    "        \"\"\"Sub function of the short to real resistor function, for \"Big\" (>=1) values \n",
    "        :param pre: The part before the symbol break (symbol break is the 'k' in 4k7)\n",
    "        :param post: the part after the symbol break\n",
    "        :param iso: correct tuple from the iso_multipliers table\n",
    "        :return: A tuple as (Real value string, verbose representation)\n",
    "        \"\"\"\n",
    "        #Start with creating the verbose representation\n",
    "        #if post is blank, the formatting is very simple\n",
    "        if post == \"\":\n",
    "            verbose = pre + \" \" + iso[0] + \"Ohm\" \n",
    "        #if post is not blank, but also not just digits, something is wrong, and we error out.\n",
    "        elif post.isdigit() == False:\n",
    "            return (\"ERROR\",\"Invalid formatting\")\n",
    "        #else, format it slightly longer\n",
    "        else:\n",
    "            verbose = pre + \".\" + post + \" \" + iso[0] + \"Ohm\"\n",
    "        \n",
    "        #now we start formatting the realvalue\n",
    "        #first, the pre must always be only digits, and not blank (0k7 should be 700R) else error out\n",
    "        if pre.isdigit() == False:\n",
    "            return (\"ERROR\",\"Invalid formatting\")\n",
    "        #if iso[0] (the name of the multiplier) is blank, we are dealing with the 1 ohm range.\n",
    "        if iso[0] == \"\":\n",
    "            #if post is empy, realvalue is just pre, if post is present, realvalue is pre.post\n",
    "            if post == \"\":\n",
    "                realvalue = pre\n",
    "            else:\n",
    "                realvalue = pre + \".\" + post\n",
    "        #if we are not in the 1 ohm range, just paste pre and post together to get realvalue (for now)\n",
    "        else:\n",
    "            realvalue = pre + post\n",
    "        #Now add trailing zeroes, by checking if the length is shorter than the exponent + 1 (\"1000\" has exponent of 3, length of 4)\n",
    "        while len(realvalue) < (iso[6] + len(pre)):\n",
    "            realvalue += \"0\"\n",
    "        #then add leading zeroes for database sorting perposes and return\n",
    "        while len(realvalue) < self.realvalue_store_width:\n",
    "            realvalue = \"0\" + realvalue \n",
    "        \n",
    "        return (realvalue, verbose)\n",
    "\n",
    "\n",
    "    def __str_res_small(self, pre, post, iso):\n",
    "        \"\"\"Sub function of the short to real resistor function, for \"small\" (<1) values \n",
    "        :param pre: The part before the symbol break (symbol break is the 'm' in 4m7)\n",
    "        :param post: the part after the symbol break\n",
    "        :param iso: correct tuple from the iso_multipliers table\n",
    "        :return: A tuple as (Real value string, verbose representation)\n",
    "        \"\"\"\n",
    "        #verbose formatting is the same as with the \"big\" subfunction\n",
    "        if post == \"\":\n",
    "            verbose = pre + \" \" + iso[0] + \"Ohm\"\n",
    "        elif post.isdigit() == False:\n",
    "            return (\"ERROR\",\"Invalid formatting\")\n",
    "        else:\n",
    "            verbose = pre + \".\" + post + \" \" + iso[0] + \"Ohm\" \n",
    "        #then realvalue formatting\n",
    "        #pre must always be only digits, and not blank, else error out\n",
    "        if pre.isdigit() == False:\n",
    "            return (\"ERROR\",\"Invalid formatting\")\n",
    "        #since we are dealing with values below 1 ohm, the period is in front of the values anyway\n",
    "        realvalue = pre + post\n",
    "        #if the length of pre is too long, that is invallid formatting\n",
    "        if len(pre) > 3:\n",
    "            return (\"ERROR\",\"Invalid formatting\")\n",
    "        #calculate the number of leading zeroes we need, by using the negative of the exponent, minus the current length\n",
    "        leadingzeroes = (0 - iso[6]) - len(pre)\n",
    "        #and then add the leading zeroes\n",
    "        for i in range(0,leadingzeroes):\n",
    "            realvalue = \"0\" +realvalue\n",
    "        #after that, add the \"0.\" to the front\n",
    "        realvalue = \"0.\" + realvalue    \n",
    "        #also strip trailing zeroes, in case the user entered too many zeroes in the input, and then return\n",
    "        while realvalue[len(realvalue)-1] == \"0\":\n",
    "            realvalue = realvalue[0:len(realvalue)-1]       \n",
    "        return (realvalue, verbose)\n",
    "\n",
    "\n",
    "    def __str_res_num(self, short):\n",
    "        \"\"\"Sub function of the short to real resistor function, 1 ohm range values, with only numerical input \n",
    "        :param short: The numerical input        \n",
    "        :return: A tuple as (Real value string, verbose representation)\n",
    "        \"\"\"\n",
    "        #this one is very simple. Just format it, and padd it with leading zeroes, and return.\n",
    "        verbose = short + \" Ohm\"\n",
    "        realvalue = short\n",
    "        while len(realvalue) < self.realvalue_store_width:\n",
    "            realvalue = \"0\" + realvalue    \n",
    "        return (realvalue, verbose)"
   ]
  },
  {
   "cell_type": "code",
   "execution_count": 44,
   "id": "ideal-butler",
   "metadata": {},
   "outputs": [],
   "source": [
    "convert = ValueConvert()\n"
   ]
  },
  {
   "cell_type": "code",
   "execution_count": 45,
   "id": "waiting-edinburgh",
   "metadata": {},
   "outputs": [
    {
     "name": "stdout",
     "output_type": "stream",
     "text": [
      "('00000000000000030900', '30.9 KiloOhm')\n"
     ]
    }
   ],
   "source": [
    "print(convert.short_to_real_resistor(\"30k9\"))"
   ]
  },
  {
   "cell_type": "code",
   "execution_count": 46,
   "id": "caring-inclusion",
   "metadata": {},
   "outputs": [
    {
     "name": "stdout",
     "output_type": "stream",
     "text": [
      "('00000000000000003090', '3.09 KiloOhm')\n"
     ]
    }
   ],
   "source": [
    "print(convert.short_to_real_resistor(\"3k09\"))"
   ]
  },
  {
   "cell_type": "code",
   "execution_count": 47,
   "id": "parallel-swiss",
   "metadata": {},
   "outputs": [
    {
     "name": "stdout",
     "output_type": "stream",
     "text": [
      "('3k09', '3.09 KiloOhm')\n"
     ]
    }
   ],
   "source": [
    "print(convert.real_to_short_resistor(\"000000003090\"))"
   ]
  },
  {
   "cell_type": "code",
   "execution_count": 22,
   "id": "assured-equity",
   "metadata": {},
   "outputs": [
    {
     "data": {
      "text/plain": [
       "900000"
      ]
     },
     "execution_count": 22,
     "metadata": {},
     "output_type": "execute_result"
    }
   ],
   "source": [
    "3900000%1000000"
   ]
  },
  {
   "cell_type": "code",
   "execution_count": 18,
   "id": "twelve-ability",
   "metadata": {},
   "outputs": [
    {
     "data": {
      "text/plain": [
       "3"
      ]
     },
     "execution_count": 18,
     "metadata": {},
     "output_type": "execute_result"
    }
   ],
   "source": [
    "len(\"900\")"
   ]
  }
 ],
 "metadata": {
  "kernelspec": {
   "display_name": "Python 3",
   "language": "python",
   "name": "python3"
  },
  "language_info": {
   "codemirror_mode": {
    "name": "ipython",
    "version": 3
   },
   "file_extension": ".py",
   "mimetype": "text/x-python",
   "name": "python",
   "nbconvert_exporter": "python",
   "pygments_lexer": "ipython3",
   "version": "3.9.2"
  }
 },
 "nbformat": 4,
 "nbformat_minor": 5
}
