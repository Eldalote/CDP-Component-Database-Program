{
 "cells": [
  {
   "cell_type": "code",
   "execution_count": 4,
   "id": "swiss-inclusion",
   "metadata": {},
   "outputs": [
    {
     "name": "stdout",
     "output_type": "stream",
     "text": [
      "something\n",
      "Something else\n",
      "Something else\n",
      "something\n",
      "Something else\n",
      "Something else\n"
     ]
    }
   ],
   "source": [
    "class parent:\n",
    "    def do_something(self):\n",
    "        print(\"something\")\n",
    "        self.do_something_else()\n",
    "        \n",
    "    def do_something_else(self):\n",
    "        print(\"Something else\")\n",
    "        \n",
    "class child(parent):\n",
    "    def child_do(self):\n",
    "        self.do_something()\n",
    "        self.do_something_else()\n",
    "        super().do_something()\n",
    "        super().do_something_else()\n",
    "        \n",
    "c = child()\n",
    "c.child_do()"
   ]
  },
  {
   "cell_type": "code",
   "execution_count": 6,
   "id": "hired-breast",
   "metadata": {},
   "outputs": [
    {
     "name": "stdout",
     "output_type": "stream",
     "text": [
      "{'one': 1, 'two': 2, 'three': 3}\n"
     ]
    }
   ],
   "source": []
  }
 ],
 "metadata": {
  "kernelspec": {
   "display_name": "Python 3",
   "language": "python",
   "name": "python3"
  },
  "language_info": {
   "codemirror_mode": {
    "name": "ipython",
    "version": 3
   },
   "file_extension": ".py",
   "mimetype": "text/x-python",
   "name": "python",
   "nbconvert_exporter": "python",
   "pygments_lexer": "ipython3",
   "version": "3.9.2"
  }
 },
 "nbformat": 4,
 "nbformat_minor": 5
}
