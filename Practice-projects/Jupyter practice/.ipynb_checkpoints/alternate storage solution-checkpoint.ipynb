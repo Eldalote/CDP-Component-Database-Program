{
 "cells": [
  {
   "cell_type": "code",
   "execution_count": 4,
   "id": "amended-farming",
   "metadata": {},
   "outputs": [
    {
     "name": "stdout",
     "output_type": "stream",
     "text": [
      "2.6.0\n",
      "('0.000000000004', '0402')\n",
      "('0.000000000004', '0402')\n",
      "('0.0001', '0402')\n",
      "('0.0001', '0402')\n",
      "('0.0006', '0402')\n",
      "('0.0006', '0402')\n",
      "('0.01', '0805')\n",
      "('0.01', '0805')\n",
      "('0.01', '0402')\n",
      "('0.01', '0402')\n",
      "('000000000016', '0603')\n",
      "('000000003300', '0805')\n",
      "('000000047000', '0603')\n",
      "('000010000005', '0402')\n",
      "('10000005', '0402')\n",
      "('16', '0603')\n",
      "('3300', '0805')\n",
      "('47000', '0603')\n"
     ]
    }
   ],
   "source": [
    "import sqlite3\n",
    "from sqlite3 import Error\n",
    "\n",
    "\n",
    "conn = None\n",
    "try:\n",
    "    conn = sqlite3.connect(r\"test.db\")\n",
    "    print(sqlite3.version)\n",
    "except Error as e:\n",
    "    print(\"database connection error: \" + str(e))\n",
    "    \n",
    "sql = \"\"\"CREATE TABLE IF NOT EXISTS resistors(\n",
    "            value text,\n",
    "            footprint text);\"\"\"\n",
    "try:\n",
    "    cur = conn.cursor()\n",
    "    cur.execute(sql)\n",
    "    conn.commit()\n",
    "except:\n",
    "    print(\"Table error\")\n",
    "\n",
    "if True:\n",
    "    sql = \"\"\"INSERT INTO resistors(\n",
    "            value,\n",
    "            footprint)\n",
    "            VALUES(?,?);\"\"\"\n",
    "    res1 = (\"0.01\",\"0402\")\n",
    "    res2 = (\"0.01\",\"0805\")\n",
    "    res3 = (\"0.0001\",\"0402\")\n",
    "    res4 = (\"0.000000000004\",\"0402\")\n",
    "    res5 = (\"0.0006\",\"0402\")\n",
    "    res6 = (\"000000000016\",\"0603\")\n",
    "    res7 = (\"000010000005\",\"0402\")\n",
    "    res8 = (\"000000003300\",\"0805\")\n",
    "    res9 = (\"000000047000\",\"0603\")\n",
    "    cur = conn.cursor()\n",
    "    cur.execute(sql,res1)\n",
    "    cur.execute(sql,res2)\n",
    "    cur.execute(sql,res3)\n",
    "    cur.execute(sql,res4)\n",
    "    cur.execute(sql,res5)\n",
    "    cur.execute(sql,res6)\n",
    "    cur.execute(sql,res7)\n",
    "    cur.execute(sql,res8)\n",
    "    cur.execute(sql,res9)\n",
    "    conn.commit()\n",
    "    \n",
    "if True:\n",
    "    sql = \"SELECT * FROM resistors ORDER BY value ASC, footprint DESC\"\n",
    "    cur = conn.cursor()\n",
    "    cur.execute(sql)\n",
    "    rows = cur.fetchall()\n",
    "    for row in rows:\n",
    "        print(row)\n",
    "\n",
    "conn.close()\n",
    "    "
   ]
  },
  {
   "cell_type": "code",
   "execution_count": null,
   "id": "universal-albany",
   "metadata": {},
   "outputs": [],
   "source": []
  }
 ],
 "metadata": {
  "kernelspec": {
   "display_name": "Python 3",
   "language": "python",
   "name": "python3"
  },
  "language_info": {
   "codemirror_mode": {
    "name": "ipython",
    "version": 3
   },
   "file_extension": ".py",
   "mimetype": "text/x-python",
   "name": "python",
   "nbconvert_exporter": "python",
   "pygments_lexer": "ipython3",
   "version": "3.9.2"
  }
 },
 "nbformat": 4,
 "nbformat_minor": 5
}
