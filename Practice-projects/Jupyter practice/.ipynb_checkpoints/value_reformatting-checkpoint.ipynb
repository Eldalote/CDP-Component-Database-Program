{
 "cells": [
  {
   "cell_type": "code",
   "execution_count": 31,
   "id": "brilliant-wallpaper",
   "metadata": {},
   "outputs": [
    {
     "name": "stdout",
     "output_type": "stream",
     "text": [
      "24RΩ\n"
     ]
    }
   ],
   "source": [
    "iso_multipliers = (('Pico', 'p',  0.000000000001),\n",
    "                   ('Nano', 'n',  0.000000001),\n",
    "                   ('Micro', 'u', 0.000001),\n",
    "                   ('Milli', 'm', 0.001),\n",
    "                   ('', 'R', 1),\n",
    "                   ('Kilo', 'k', 1000),\n",
    "                   ('Mega', 'M', 1000000),\n",
    "                   ('Giga', 'G', 1000000000))\n",
    "\n",
    "value = 24.9\n",
    "for mult in iso_multipliers:\n",
    "    if value >= mult[2] and value < mult[2]*1000:\n",
    "        multiplier = mult[2]\n",
    "        symbol = mult[1]\n",
    "        word = mult[0]\n",
    "\n",
    "res_printstring = str(int(value/multiplier)) + symbol\n",
    "remainder = int(value%multiplier)\n",
    "if multiplier == 1:\n",
    "    remainder = int((value*10)%10)\n",
    "if remainder != 0:\n",
    "    while remainder%10 == 0:\n",
    "        remainder /=10\n",
    "    res_printstring += str(int(remainder))\n",
    "    \n",
    "res_printstring += \"Ω\" \n",
    "    \n",
    "print(res_printstring)\n",
    "\n",
    "\n"
   ]
  },
  {
   "cell_type": "code",
   "execution_count": 22,
   "id": "occupational-immune",
   "metadata": {},
   "outputs": [
    {
     "name": "stdout",
     "output_type": "stream",
     "text": [
      "1000000000\n"
     ]
    }
   ],
   "source": [
    "iso_multipliers = (('Pico', 'p',  0.000000000001),\n",
    "                   ('Nano', 'n',  0.000000001),\n",
    "                   ('Micro', 'u', 0.000001),\n",
    "                   ('Milli', 'm', 0.001),\n",
    "                   ('', 'R', 1),\n",
    "                   ('Kilo', 'k', 1000),\n",
    "                   ('Mega', 'M', 1000000),\n",
    "                   ('Giga', 'G', 1000000000))\n",
    "                   \n",
    "print(iso_multipliers[7][2])\n"
   ]
  },
  {
   "cell_type": "code",
   "execution_count": 23,
   "id": "improved-corps",
   "metadata": {},
   "outputs": [
    {
     "name": "stdout",
     "output_type": "stream",
     "text": [
      "33k\n"
     ]
    }
   ],
   "source": [
    "\n",
    "if long >= 1000 and long < 1000000:\n",
    "    printstring = str(int(long/1000))+\"k\"    \n",
    "    after_t = int(long%1000)\n",
    "    if after_t != 0:\n",
    "        while after_t%10 == 0:\n",
    "            after_t = after_t/10\n",
    "        printstring += str(int(after_t))\n",
    "    print(printstring)"
   ]
  }
 ],
 "metadata": {
  "kernelspec": {
   "display_name": "Python 3",
   "language": "python",
   "name": "python3"
  },
  "language_info": {
   "codemirror_mode": {
    "name": "ipython",
    "version": 3
   },
   "file_extension": ".py",
   "mimetype": "text/x-python",
   "name": "python",
   "nbconvert_exporter": "python",
   "pygments_lexer": "ipython3",
   "version": "3.9.2"
  }
 },
 "nbformat": 4,
 "nbformat_minor": 5
}
